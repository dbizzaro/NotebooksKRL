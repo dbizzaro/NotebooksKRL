{
  "nbformat": 4,
  "nbformat_minor": 0,
  "metadata": {
    "colab": {
      "provenance": [],
      "include_colab_link": true
    },
    "kernelspec": {
      "name": "python3",
      "display_name": "Python 3"
    },
    "language_info": {
      "name": "python"
    }
  },
  "cells": [
    {
      "cell_type": "markdown",
      "metadata": {
        "id": "view-in-github",
        "colab_type": "text"
      },
      "source": [
        "<a href=\"https://colab.research.google.com/github/dbizzaro/NotebooksKRL/blob/main/KRL_modeling_example.ipynb\" target=\"_parent\"><img src=\"https://colab.research.google.com/assets/colab-badge.svg\" alt=\"Open In Colab\"/></a>"
      ]
    },
    {
      "cell_type": "markdown",
      "source": [
        "# Modeling Exercise"
      ],
      "metadata": {
        "id": "P16dIkLiepnX"
      }
    },
    {
      "cell_type": "markdown",
      "source": [
        "Alice (A), Bob (B), Craig (C), and Donna (D) are four friends that\n",
        "  want to take a tour with their motorbikes. Everybody can decide\n",
        "  either to go with somebody else or to ride a bike alone.  Use\n",
        "  propositional logic to find all the\n",
        "  possible configurations for the tour."
      ],
      "metadata": {
        "id": "eRnkm6JmeV-V"
      }
    },
    {
      "cell_type": "code",
      "execution_count": null,
      "metadata": {
        "id": "IrV6VIwJZazq"
      },
      "outputs": [],
      "source": [
        "from sympy import *\n"
      ]
    },
    {
      "cell_type": "markdown",
      "source": [
        "We introduce the following propositional variables:\n",
        "\n",
        "*   $Rides_X$ for \"$X$ drives a bike\", for $X\\in\\{A,B,C,D\\}$\n",
        "*   $Pass_{XY}$ for \"$X$ give a pass to $Y$\", for $X,Y\\in\\{A,B,C,D\\}$ and $X\\neq Y$"
      ],
      "metadata": {
        "id": "RSIXSV2OdaRt"
      }
    },
    {
      "cell_type": "code",
      "source": [
        "Friends = ['A','B','C','D']\n",
        "Rides = {x:Symbol(f\"Rides {x}\") for x in Friends}\n",
        "Pass = {(X,Y):Symbol(f\"Pass {X}{Y}\") for X in Friends for Y in Friends if X != Y}\n",
        "\n",
        "print(Rides)\n",
        "print(Pass)"
      ],
      "metadata": {
        "id": "tzcKV6hAZc0V",
        "colab": {
          "base_uri": "https://localhost:8080/"
        },
        "outputId": "63ae972e-c42e-4604-e33a-665b58da69bc"
      },
      "execution_count": null,
      "outputs": [
        {
          "output_type": "stream",
          "name": "stdout",
          "text": [
            "{'A': Rides A, 'B': Rides B, 'C': Rides C, 'D': Rides D}\n",
            "{('A', 'B'): Pass AB, ('A', 'C'): Pass AC, ('A', 'D'): Pass AD, ('B', 'A'): Pass BA, ('B', 'C'): Pass BC, ('B', 'D'): Pass BD, ('C', 'A'): Pass CA, ('C', 'B'): Pass CB, ('C', 'D'): Pass CD, ('D', 'A'): Pass DA, ('D', 'B'): Pass DB, ('D', 'C'): Pass DC}\n"
          ]
        }
      ]
    },
    {
      "cell_type": "markdown",
      "source": [
        "We add the following axioms:\n",
        "* Each friend either rides or gets a lift: $$\\phi_1 :=  \\bigwedge_{X}\\left(Rides_X \\vee \\bigvee_{Y\\neq X}Pass_{YX}\\right)$$\n",
        "* If $Y$ gets a lift from $X$, then $X$ rides the bike: $$ \\phi_2 := \\bigwedge_{X\\neq Y}(Pass_{XY}\\to Rides_X)$$\n",
        "* If $X$ rides, then he/she does not get a lift: $$\\phi_3 := \\bigwedge_{X\\neq Y}(Rides_X\\to \\neg Pass_{YX})$$\n",
        "* Each $Y$ can get a lift from at most one person: $$\\phi_4 := \\bigwedge_{X\\neq X'\\neq Y}(Pass_{XY}\\to \\neg Pass_{X'Y})$$\n",
        "* Each $X$ can give a lift to at most one person: $$\\phi_5 := \\bigwedge_{X\\neq Y\\neq Y'}(Pass_{XY}\\to \\neg Pass_{XY'})$$"
      ],
      "metadata": {
        "id": "qrNS-RBWfZuk"
      }
    },
    {
      "cell_type": "code",
      "source": [
        "phi1 = And(*[Rides[X] | Or(*[Pass[Y,X] for Y in Friends if Y!=X]) for X in Friends])\n",
        "phi2 = And(*[Pass[X,Y] >> Rides[X] for X in Friends for Y in Friends if X!=Y])\n",
        "phi3 = And(*[Pass[X,Y] >> ~Rides[Y] for X in Friends for Y in Friends if X!=Y])\n",
        "phi4 = And(*[Pass[X,Y] >> ~Pass[X1,Y] for X in Friends for X1 in Friends for Y in Friends if X1!=X and Y!=X1 and Y!=X])\n",
        "phi5 = And(*[Pass[X,Y] >> ~Pass[X,Y1] for X in Friends for Y in Friends for Y1 in Friends if X!=Y and X!=Y1 and Y!=Y1])"
      ],
      "metadata": {
        "id": "EDMzIrnxZypY"
      },
      "execution_count": null,
      "outputs": []
    },
    {
      "cell_type": "markdown",
      "source": [
        "We run the algorithm for retrieving all the models of $\\phi_1 \\land \\phi_2 \\land \\phi_3 \\land \\phi_4 \\land \\phi_5$."
      ],
      "metadata": {
        "id": "b8zwfokEoCtB"
      }
    },
    {
      "cell_type": "code",
      "source": [
        "for m in satisfiable(phi1 & phi2 & phi3 & phi4 & phi5, all_models=True):\n",
        "  print(m)"
      ],
      "metadata": {
        "colab": {
          "base_uri": "https://localhost:8080/"
        },
        "id": "Yl5C9Y2Daf5n",
        "outputId": "a91116fe-932c-436e-82d7-66b79316b6c7"
      },
      "execution_count": null,
      "outputs": [
        {
          "output_type": "stream",
          "name": "stdout",
          "text": [
            "{Rides B: True, Rides C: True, Rides D: True, Rides A: True, Pass CD: False, Pass CB: False, Pass AB: False, Pass AD: False, Pass BD: False, Pass DA: False, Pass BA: False, Pass CA: False, Pass AC: False, Pass DC: False, Pass DB: False, Pass BC: False}\n",
            "{Rides B: True, Pass BC: True, Rides D: True, Rides A: True, Pass CD: False, Pass CB: False, Pass AB: False, Pass AD: False, Pass BD: False, Pass DA: False, Pass BA: False, Pass CA: False, Rides C: False, Pass AC: False, Pass DC: False, Pass DB: False}\n",
            "{Pass DB: True, Rides C: True, Rides D: True, Rides A: True, Pass CD: False, Pass CB: False, Pass AB: False, Pass AD: False, Pass BD: False, Pass DA: False, Pass BC: False, Pass BA: False, Pass CA: False, Pass AC: False, Pass DC: False, Rides B: False}\n",
            "{Rides B: True, Pass DC: True, Rides D: True, Rides A: True, Pass CD: False, Pass CB: False, Pass AB: False, Pass AD: False, Pass BD: False, Pass DA: False, Pass BA: False, Pass CA: False, Rides C: False, Pass AC: False, Pass DB: False, Pass BC: False}\n",
            "{Rides B: True, Pass AC: True, Rides D: True, Rides A: True, Pass CD: False, Pass CB: False, Pass AB: False, Pass AD: False, Pass BD: False, Pass DA: False, Pass BA: False, Pass CA: False, Rides C: False, Pass DC: False, Pass DB: False, Pass BC: False}\n",
            "{Pass AC: True, Pass DB: True, Rides D: True, Rides A: True, Pass CD: False, Pass CB: False, Pass AB: False, Pass AD: False, Pass BD: False, Pass DA: False, Pass BA: False, Pass CA: False, Rides C: False, Pass DC: False, Rides B: False, Pass BC: False}\n",
            "{Rides B: True, Rides C: True, Pass CA: True, Rides D: True, Pass CD: False, Rides A: False, Pass CB: False, Pass AB: False, Pass AD: False, Pass BD: False, Pass DA: False, Pass BA: False, Pass AC: False, Pass DC: False, Pass DB: False, Pass BC: False}\n",
            "{Pass DB: True, Rides C: True, Pass CA: True, Rides D: True, Pass CD: False, Rides A: False, Pass CB: False, Pass AB: False, Pass AD: False, Pass BD: False, Pass DA: False, Pass BA: False, Pass AC: False, Pass DC: False, Rides B: False, Pass BC: False}\n",
            "{Rides B: True, Rides C: True, Pass BA: True, Rides D: True, Pass DC: False, Pass CD: False, Pass CB: False, Pass AB: False, Pass AD: False, Pass BD: False, Pass DA: False, Pass CA: False, Pass AC: False, Rides A: False, Pass BC: False, Pass DB: False}\n",
            "{Rides B: True, Pass DC: True, Pass BA: True, Rides D: True, Pass CD: False, Pass CB: False, Pass AB: False, Pass AD: False, Pass BD: False, Pass DA: False, Pass CA: False, Rides C: False, Pass AC: False, Rides A: False, Pass BC: False, Pass DB: False}\n",
            "{Rides B: True, Rides C: True, Rides D: True, Pass DA: True, Pass DC: False, Pass CD: False, Pass CB: False, Pass AB: False, Pass AD: False, Pass BD: False, Pass BA: False, Pass CA: False, Pass AC: False, Pass BC: False, Pass DB: False, Rides A: False}\n",
            "{Rides B: True, Pass BC: True, Rides D: True, Pass DA: True, Pass DC: False, Pass CD: False, Pass CB: False, Pass AB: False, Pass AD: False, Pass BD: False, Pass BA: False, Pass CA: False, Rides C: False, Pass AC: False, Pass DB: False, Rides A: False}\n",
            "{Rides C: True, Rides B: True, Pass DB: False, Pass BD: True, Rides A: True, Pass DC: False, Pass CD: False, Pass CB: False, Pass AB: False, Pass AD: False, Rides D: False, Pass BA: False, Pass CA: False, Pass AC: False, Pass BC: False, Pass DA: False}\n",
            "{Pass AC: True, Rides B: True, Pass DB: False, Pass BD: True, Rides A: True, Pass DC: False, Pass CD: False, Pass CB: False, Pass AB: False, Pass AD: False, Rides D: False, Pass BA: False, Pass CA: False, Rides C: False, Pass BC: False, Pass DA: False}\n",
            "{Rides C: True, Pass CA: True, Rides B: True, Pass DB: False, Pass BD: True, Pass DC: False, Pass CD: False, Pass CB: False, Pass AB: False, Pass AD: False, Rides D: False, Pass BA: False, Pass AC: False, Rides A: False, Pass BC: False, Pass DA: False}\n",
            "{Rides C: True, Pass BD: False, Rides B: True, Pass DB: False, Pass AD: True, Rides A: True, Pass DC: False, Pass CD: False, Pass CB: False, Pass AB: False, Rides D: False, Pass BA: False, Pass CA: False, Pass AC: False, Pass BC: False, Pass DA: False}\n",
            "{Pass BC: True, Pass BD: False, Rides B: True, Pass DB: False, Pass AD: True, Rides A: True, Pass DC: False, Pass CD: False, Pass CB: False, Pass AB: False, Rides D: False, Pass BA: False, Pass CA: False, Rides C: False, Pass AC: False, Pass DA: False}\n",
            "{Rides C: True, Rides D: True, Pass AD: False, Pass BD: False, Pass DB: False, Pass AB: True, Rides A: True, Pass DC: False, Pass CD: False, Pass CB: False, Pass BA: False, Pass CA: False, Pass AC: False, Pass BC: False, Rides B: False, Pass DA: False}\n",
            "{Pass DC: True, Rides D: True, Pass AD: False, Pass BD: False, Pass DB: False, Pass AB: True, Rides A: True, Pass CD: False, Pass CB: False, Pass BA: False, Pass CA: False, Rides C: False, Pass AC: False, Pass BC: False, Rides B: False, Pass DA: False}\n",
            "{Rides D: True, Pass AD: False, Pass DB: False, Rides C: True, Pass CB: True, Pass BD: False, Rides A: True, Pass DC: False, Pass CD: False, Pass BA: False, Pass CA: False, Pass DA: False, Pass AC: False, Pass AB: False, Pass BC: False, Rides B: False}\n",
            "{Rides A: False, Rides D: True, Pass AD: False, Pass DB: False, Rides C: True, Pass CB: True, Pass BD: False, Pass DA: True, Pass DC: False, Pass CD: False, Pass BA: False, Pass CA: False, Pass AC: False, Pass AB: False, Pass BC: False, Rides B: False}\n",
            "{Pass DB: False, Rides C: True, Pass CB: True, Pass BD: False, Pass AD: True, Rides A: True, Pass DC: False, Pass CD: False, Rides D: False, Pass BA: False, Pass CA: False, Pass DA: False, Pass AC: False, Pass AB: False, Pass BC: False, Rides B: False}\n",
            "{Rides B: True, Pass AD: False, Pass BD: False, Rides C: True, Pass DB: False, Pass CD: True, Rides A: True, Pass DC: False, Rides D: False, Pass BA: False, Pass CA: False, Pass CB: False, Pass AC: False, Pass AB: False, Pass BC: False, Pass DA: False}\n",
            "{Pass BA: True, Rides B: True, Pass AD: False, Pass BD: False, Rides C: True, Pass DB: False, Pass CD: True, Rides A: False, Pass DC: False, Rides D: False, Pass CA: False, Pass CB: False, Pass AC: False, Pass AB: False, Pass BC: False, Pass DA: False}\n",
            "{Pass AD: False, Pass BD: False, Rides C: True, Pass DB: False, Pass CD: True, Pass AB: True, Rides A: True, Pass DC: False, Rides D: False, Pass BA: False, Pass CA: False, Pass CB: False, Pass AC: False, Rides B: False, Pass BC: False, Pass DA: False}\n"
          ]
        }
      ]
    },
    {
      "cell_type": "code",
      "source": [
        "for m in satisfiable(phi1 & phi2 & phi3 & phi4 & phi5, all_models=True):\n",
        "  list_true = [x for x in m if m[x]]\n",
        "  print(list_true)"
      ],
      "metadata": {
        "colab": {
          "base_uri": "https://localhost:8080/"
        },
        "id": "moGhEIm0rV2o",
        "outputId": "4f97717e-bdbc-4422-884a-e30d683f139e"
      },
      "execution_count": null,
      "outputs": [
        {
          "output_type": "stream",
          "name": "stdout",
          "text": [
            "[Rides B, Rides C, Rides D, Rides A]\n",
            "[Rides B, Pass BC, Rides D, Rides A]\n",
            "[Pass DB, Rides C, Rides D, Rides A]\n",
            "[Rides B, Pass DC, Rides D, Rides A]\n",
            "[Rides B, Pass AC, Rides D, Rides A]\n",
            "[Pass AC, Pass DB, Rides D, Rides A]\n",
            "[Rides B, Rides C, Pass CA, Rides D]\n",
            "[Pass DB, Rides C, Pass CA, Rides D]\n",
            "[Rides B, Rides C, Pass BA, Rides D]\n",
            "[Rides B, Pass DC, Pass BA, Rides D]\n",
            "[Rides B, Rides C, Rides D, Pass DA]\n",
            "[Rides B, Pass BC, Rides D, Pass DA]\n",
            "[Rides C, Rides B, Pass BD, Rides A]\n",
            "[Pass AC, Rides B, Pass BD, Rides A]\n",
            "[Rides C, Pass CA, Rides B, Pass BD]\n",
            "[Rides C, Rides B, Pass AD, Rides A]\n",
            "[Pass BC, Rides B, Pass AD, Rides A]\n",
            "[Rides C, Rides D, Pass AB, Rides A]\n",
            "[Pass DC, Rides D, Pass AB, Rides A]\n",
            "[Rides D, Rides C, Pass CB, Rides A]\n",
            "[Rides D, Rides C, Pass CB, Pass DA]\n",
            "[Rides C, Pass CB, Pass AD, Rides A]\n",
            "[Rides B, Rides C, Pass CD, Rides A]\n",
            "[Pass BA, Rides B, Rides C, Pass CD]\n",
            "[Rides C, Pass CD, Pass AB, Rides A]\n"
          ]
        }
      ]
    }
  ]
}