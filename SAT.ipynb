{
  "nbformat": 4,
  "nbformat_minor": 0,
  "metadata": {
    "colab": {
      "provenance": [],
      "authorship_tag": "ABX9TyNNhV4WEBSswRJykK3T4QT2",
      "include_colab_link": true
    },
    "kernelspec": {
      "name": "python3",
      "display_name": "Python 3"
    },
    "language_info": {
      "name": "python"
    }
  },
  "cells": [
    {
      "cell_type": "markdown",
      "metadata": {
        "id": "view-in-github",
        "colab_type": "text"
      },
      "source": [
        "<a href=\"https://colab.research.google.com/github/dbizzaro/NotebooksKRL/blob/main/SAT.ipynb\" target=\"_parent\"><img src=\"https://colab.research.google.com/assets/colab-badge.svg\" alt=\"Open In Colab\"/></a>"
      ]
    },
    {
      "cell_type": "markdown",
      "source": [
        "# SAT Solving"
      ],
      "metadata": {
        "id": "iztMTAQUHJ9V"
      }
    },
    {
      "cell_type": "markdown",
      "source": [
        "## DIMACS CNF FORMAT\n",
        "\n",
        "The **dimacs** format is a textual representation of a formula in CNF.\n",
        "\n",
        "It uses positive integers to represent propositional variables, and their negative for the corresponding negated variable.\n",
        "\n",
        "A dimacs file begins with a header line: $\\text{ p cnf }  |\\text{variables}| \\,|\\text{clauses}|$.\n",
        "\n",
        "Clauses are encoded as a sequence of decimal numbers. Usually, each clause is listed on a separate line, using spaces between each of the literals, and a final zero.\n",
        "\n",
        "As an example, the formula $(x \\vee y \\vee \\neg z) \\wedge (\\neg y \\vee z)$ could be encoded in this way:\n",
        "\n",
        "\\begin{align}\n",
        "& \\text{p} \\ \\ \\text{cnf} \\  \\ 3 \\ \\ 2 \\\\\n",
        "& 1 \\ \\  2 \\  \\ -3 \\ \\ 0 \\\\\n",
        "& -2 \\ \\ 3 \\ \\ 0\n",
        "\\end{align}\n",
        "\n",
        "where $x$ corresponds to $1$, $y$ to $2$, and $z$ to $3$."
      ],
      "metadata": {
        "id": "TSYAZHq2Gq7s"
      }
    },
    {
      "cell_type": "markdown",
      "source": [
        "### Encoding\n",
        "\n",
        "For representing any problem, we need to define a function\n",
        "(encoding) that maps each variable $p\\in\\mathcal{P}$ into a natural number:\n",
        "$$\n",
        "Encode:\\mathcal{P}\\longrightarrow[n]\n",
        "$$\n",
        "where $[n]:=\\{1,2,\\dots,n\\}$ and $n=|\\mathcal{P}|$.  \n",
        "The $Decode$ function from $[n]$ to $\\mathcal{P}$ is the inverse\n",
        "of $Encode$:\n",
        "$$\n",
        "Decode:[n]\\longrightarrow\\mathcal{P}, \\quad Decode(i)=Encode^{-1}(i)\n",
        "$$\n",
        "\n",
        "To generate the lines in the body of a dimacs file, we use $Encode(p)$ for any positive literal $p$ in the clause, and $-Encode(p)$ for a negative literal."
      ],
      "metadata": {
        "id": "bG1RWbY_l95e"
      }
    },
    {
      "cell_type": "markdown",
      "source": [
        "**EXERCISE:** write in dimacs the following clauses: $$\\{\\{A,\\neg B,\\neg D\\},\\{\\neg A,\\neg B,\\neg C\\},\\{\\neg A,C,\\neg\n",
        "  D\\},\\{\\neg A,B,C\\}\\}$$"
      ],
      "metadata": {
        "id": "chL1I4h8ihBR"
      }
    },
    {
      "cell_type": "code",
      "source": [
        "# Encoding:\n",
        "# A -> 1\n",
        "# B -> 2\n",
        "# C -> 3\n",
        "# D -> 4\n",
        "\n",
        "# Write solution\n",
        "dimacs_str = \"\"\"\n",
        "p cnf 4 4\n",
        "1 -2 -4 0\n",
        "-1 -2 -3 0\n",
        "-1 3 -4 0\n",
        "-1 2 3 0\n",
        "\"\"\""
      ],
      "metadata": {
        "id": "gd1gAQf_h40z"
      },
      "execution_count": 146,
      "outputs": []
    },
    {
      "cell_type": "markdown",
      "source": [
        "### SAT solvers\n",
        "\n",
        "We can call the SAT solver on the encoding that we have\n",
        "generated. The sat solver can return either UNSATISFIABLE\n",
        "or SATISFIABLE. In the latter case, we can ask the solver to\n",
        "return a model, codified as a sequence\n",
        "of positive and negative integers:\n",
        "$$\n",
        "r = [\\pm 1, \\pm 2,\\dots, \\pm n]\n",
        "$$\n",
        "where $n=|\\mathcal{P}|$. The list\n",
        "encodes the following interpretation:\n",
        "$$\n",
        "\\mathcal{I}_r(p) =\n",
        "\\begin{cases}\n",
        "True & \\mbox{if } Encode(p)\\in r \\\\\n",
        "False & \\mbox{if } -Encode(p)\\in r\n",
        "\\end{cases}\n",
        "$$"
      ],
      "metadata": {
        "id": "InXPTTJEqBKO"
      }
    },
    {
      "cell_type": "code",
      "source": [
        "# Use a SAT solver from pysat python library\n",
        "!pip install python-sat"
      ],
      "metadata": {
        "id": "Ak9dadUPntH5",
        "colab": {
          "base_uri": "https://localhost:8080/"
        },
        "outputId": "9d7f9561-3fe4-4e41-f656-b87f5512ee1b"
      },
      "execution_count": 147,
      "outputs": [
        {
          "output_type": "stream",
          "name": "stdout",
          "text": [
            "Requirement already satisfied: python-sat in /usr/local/lib/python3.11/dist-packages (1.8.dev16)\n",
            "Requirement already satisfied: six in /usr/local/lib/python3.11/dist-packages (from python-sat) (1.17.0)\n"
          ]
        }
      ]
    },
    {
      "cell_type": "code",
      "source": [
        "from pysat.formula import CNF\n",
        "from pysat.solvers import Minisat22\n",
        "\n",
        "# Parse the DIMACS string\n",
        "cnf = CNF(from_string=dimacs_str)\n",
        "\n",
        "# Solve using PySAT\n",
        "solver = Minisat22()\n",
        "solver.append_formula(cnf)\n",
        "\n",
        "if solver.solve():\n",
        "    print(\"SATISFIABLE\")\n",
        "    model = solver.get_model()\n",
        "    print(\"Solution:\", model)  # Get a satisfying assignment\n",
        "else:\n",
        "    print(\"UNSATISFIABLE\")"
      ],
      "metadata": {
        "collapsed": true,
        "id": "QkEEZ5Rtkf15",
        "colab": {
          "base_uri": "https://localhost:8080/"
        },
        "outputId": "d9cee87a-ae19-4cb8-bf9b-6049d24d74ab"
      },
      "execution_count": 148,
      "outputs": [
        {
          "output_type": "stream",
          "name": "stdout",
          "text": [
            "SATISFIABLE\n",
            "Solution: [-1, -2, -3, -4]\n"
          ]
        }
      ]
    },
    {
      "cell_type": "markdown",
      "source": [
        "If we want to obtain additional models, we have to add to the initial\n",
        "set of clauses that fact that we want a model different from $\\mathcal{I}_r$.\n",
        "A model of $\\Gamma$ is different from $\\mathcal{I}_r$ if at least one\n",
        "proposition takes a truth value different from the one assigned by\n",
        "$\\mathcal{I}_r$.  We can therefore add to $\\Gamma$ the clause\n",
        "$$\n",
        "\\bigvee_{\\mathcal{I}_r(p)=True}\\neg p \\vee\n",
        "\\bigvee_{\\mathcal{I}_r(p)=False}p\n",
        "$$\n",
        "which can be codified as the sequence $-r = [-i \\mid i\\in r]$."
      ],
      "metadata": {
        "id": "0IXz06h0mDlo"
      }
    },
    {
      "cell_type": "code",
      "source": [
        "while solver.solve():\n",
        "    model = solver.get_model()\n",
        "    print(model)\n",
        "    solver.add_clause([-i for i in model])"
      ],
      "metadata": {
        "id": "A5ytWTfxmG9l",
        "colab": {
          "base_uri": "https://localhost:8080/"
        },
        "outputId": "bb2aabdb-1347-4fd8-a6fc-2c3a96da90ec"
      },
      "execution_count": 149,
      "outputs": [
        {
          "output_type": "stream",
          "name": "stdout",
          "text": [
            "[-1, -2, -3, -4]\n",
            "[-1, -2, 3, -4]\n",
            "[-1, -2, 3, 4]\n",
            "[1, -2, 3, 4]\n",
            "[-1, -2, -3, 4]\n",
            "[-1, 2, -3, -4]\n",
            "[-1, 2, 3, -4]\n",
            "[1, -2, 3, -4]\n",
            "[1, 2, -3, -4]\n"
          ]
        }
      ]
    },
    {
      "cell_type": "code",
      "source": [
        "# need to reinstantiate the solver\n",
        "solver = Minisat22()\n",
        "solver.append_formula(cnf)\n",
        "\n",
        "# Alternative enumeration of models\n",
        "all_models = list(solver.enum_models())\n",
        "for model in all_models:\n",
        "    print(model)"
      ],
      "metadata": {
        "id": "UokMACzPo2o9",
        "colab": {
          "base_uri": "https://localhost:8080/"
        },
        "outputId": "785fda49-7967-4cca-fe04-8c57c9ceda66"
      },
      "execution_count": 150,
      "outputs": [
        {
          "output_type": "stream",
          "name": "stdout",
          "text": [
            "[-1, -2, -3, -4]\n",
            "[-1, 2, -3, -4]\n",
            "[-1, 2, 3, -4]\n",
            "[1, 2, -3, -4]\n",
            "[-1, -2, 3, -4]\n",
            "[1, -2, 3, -4]\n",
            "[1, -2, 3, 4]\n",
            "[-1, -2, 3, 4]\n",
            "[-1, -2, -3, 4]\n"
          ]
        }
      ]
    },
    {
      "cell_type": "markdown",
      "source": [
        "## NumberMind\n",
        "The game NumberMind is a variant of the well known game MasterMind.\n",
        "Instead of colored pegs, you have to guess a secret sequence of\n",
        "digits. After each guess, you’re only told in how many places you have\n",
        "guessed the correct digit.\n",
        "\n",
        "So, if the sequence was 1234 and you\n",
        "guessed 2036, you’d be told that you have one correct digit; however,\n",
        "you would NOT be told that you also have another digit in the wrong\n",
        "place. As another example, the following table shows some feedbacks for the secret sequence **39542**:\n",
        "\n",
        "| **Guess**  | **Feedback** |\n",
        "|------------|-------------|\n",
        "| 903**42**  | 2 correct   |\n",
        "| 70794      | 0 correct   |\n",
        "| **39**458  | 2 correct   |\n",
        "| **3**4109  | 1 correct   |\n",
        "| 51**54**5  | 2 correct   |\n",
        "| 12**5**31  | 1 correct   |\n",
        "\n",
        "How can we use a SAT solver to generate guesses that take into\n",
        "account the feedbacks?\n",
        "\n"
      ],
      "metadata": {
        "id": "FZuC_HXtZN4I"
      }
    },
    {
      "cell_type": "markdown",
      "source": [
        "The relevant atomic propositions for the NumberMind world are those expressing that a certain number is in a certain position of the secret sequence. Therefore, for every position $p\\in\\{0,\\dots,p_{\\max}\\}$ and every digit $d\\in\\{0,\\dots,9\\}$, we consider the following propositional variable:\n",
        "    \\begin{align*}\n",
        "      \\text{In}(d,p):= &&& \\text{there is a digit } d \\mbox{ in position } p\n",
        "    \\end{align*}\n",
        "\n",
        "The second step is to provide encoding and decoding functions for the\n",
        "dimacs format. Simple encoding/decoding functions are the\n",
        "following:\n",
        "    \\begin{align*}\n",
        "      Encode(\\text{In}(d,p)) & = p\\cdot10+ d + 1 \\\\\n",
        "      Decode(k) & = \\text{In}(d,p) & \\mbox{ where } d & = (k-1)\\mod{10} \\\\\n",
        "     && p & = (k-1)\\div 10\n",
        "    \\end{align*}\n",
        "\n"
      ],
      "metadata": {
        "id": "92h4YtcMgzNU"
      }
    },
    {
      "cell_type": "code",
      "source": [
        "def encode(d, p):\n",
        "  \"\"\"Encodes the proposition 'In(digit, position)' into a unique integer.\"\"\"\n",
        "  return p * 10 + d + 1\n",
        "\n",
        "def decode(encoded_value):\n",
        "  \"\"\"Decodes an encoded value back into the 'digit' and 'position'.\"\"\"\n",
        "  encoded_value -= 1\n",
        "  d = encoded_value % 10\n",
        "  p = encoded_value // 10\n",
        "  return d, p\n",
        "\n",
        "def feedback(secret_solution, guess):\n",
        "  \"\"\"Computes the number of correct digits in a guess.\"\"\"\n",
        "  return sum(1 for p, d in enumerate(guess) if d == secret_solution[p])"
      ],
      "metadata": {
        "id": "Awqs0SMmsA3e"
      },
      "execution_count": 151,
      "outputs": []
    },
    {
      "cell_type": "markdown",
      "source": [
        "In the next step, we have to formalize the constraints of the game.\n",
        "In NumberMind, constrains come from two sources:\n",
        "*  First, in the sequence, one only one digit per position is admitted.\n",
        "* The second source of constraints is the feedback provided when the player proposes a guess (so these constraints are added every time the player proposes a guess).\n",
        "\n",
        "Both of these type of constraints are cardinality constraints, and they can be encoded in the following way:\n",
        "\n",
        "* At every position there is exactly one digit:\n",
        "    \\begin{align}\n",
        "      \\bigwedge_{p=0}^{p_{\\max}}\\bigvee_{d=0}^{9}\\text{In}(d,p)\\wedge\\bigwedge_{p=0}^{p_{\\max}}\\bigwedge_{0\\leq\n",
        "      d < d'\\leq 9}\\neg\\text{In}(d,p)\\vee \\neg\\text{In}(d',p)\n",
        "    \\end{align}\n",
        "* There are $k$ correct digits in a guess made of the sequence $[d_1, \\dots, d_{p_{\\max}}]$:\n",
        "    \\begin{align}\n",
        "      \\bigwedge_{\\substack{I\\subseteq G \\\\\n",
        "      |I|=p_{\\max}+1-k+1}}\\bigvee_{\\text{In}(d,p)\\in I} \\text{In}(d,p)\\wedge\n",
        "      \\bigwedge_{\\substack{I\\subseteq G \\\\ |I| = k+1}}\\bigvee_{\\text{In}(d,p)\\in\n",
        "      I}\\neg \\text{In}(d,p)\n",
        "    \\end{align}\n",
        "  where $G=\\{\\text{In}(d_1,1),\\text{In}(d_2,2),\\dots,\\text{In}(d_{p_{\\max}},p_{\\max})\\}$"
      ],
      "metadata": {
        "id": "iSuZ5dLCsCL0"
      }
    },
    {
      "cell_type": "code",
      "source": [
        "from itertools import combinations\n",
        "from pysat.solvers import Minisat22\n",
        "\n",
        "solver = Minisat22()\n",
        "secret_sequence = [3, 9, 5, 4, 2]\n",
        "p_max = len(secret_sequence)\n",
        "\n",
        "# Encode the first constraints\n",
        "for p in range(p_max):\n",
        "  solver.add_clause([encode(d, p) for d in range(10)])\n",
        "  for d1, d2 in combinations(range(10), 2):\n",
        "      solver.add_clause([-encode(d1, p), -encode(d2, p)])\n",
        "\n",
        "def add_feedback_constraint(guess, k):\n",
        "  \"\"\"Adds a feedback constraint to the solver for guess having k correct digits.\"\"\"\n",
        "  variables = [encode(d, p) for p, d in enumerate(guess)]\n",
        "  for subset in combinations(variables, len(variables) - k + 1):\n",
        "    solver.add_clause(list(subset))\n",
        "  for subset in combinations(variables, k + 1):\n",
        "    solver.add_clause([-lit for lit in subset])"
      ],
      "metadata": {
        "id": "OF5f_tnju_Ww"
      },
      "execution_count": 153,
      "outputs": []
    },
    {
      "cell_type": "code",
      "source": [
        "def solve(solver, secret_solution):\n",
        "  p_max = len(secret_solution)\n",
        "  correct_guesses = 0\n",
        "  while correct_guesses < p_max:\n",
        "    if not solver.solve():\n",
        "      raise ValueError(\"No solution found!\")\n",
        "    model = solver.get_model()\n",
        "    guess = [next(d for d in range(10) if model[encode(d, p) - 1] > 0) for p in range(p_max)]\n",
        "    correct_guesses = feedback(secret_solution, guess)\n",
        "    print(f\"Guess: {''.join(map(str, guess))}, Correct: {correct_guesses}\")\n",
        "    if correct_guesses == p_max:\n",
        "      print(\"Solution found!\")\n",
        "      return guess\n",
        "    add_feedback_constraint(guess, correct_guesses)\n",
        "\n",
        "\n",
        "solve(solver, secret_sequence)"
      ],
      "metadata": {
        "colab": {
          "base_uri": "https://localhost:8080/"
        },
        "id": "kwFNqbjCyhZA",
        "outputId": "954aecd2-00ba-45be-aae0-a12680550958"
      },
      "execution_count": 154,
      "outputs": [
        {
          "output_type": "stream",
          "name": "stdout",
          "text": [
            "Guess: 00000, Correct: 0\n",
            "Guess: 11111, Correct: 0\n",
            "Guess: 22222, Correct: 1\n",
            "Guess: 23333, Correct: 0\n",
            "Guess: 94442, Correct: 2\n",
            "Guess: 94529, Correct: 1\n",
            "Guess: 89542, Correct: 4\n",
            "Guess: 79542, Correct: 4\n",
            "Guess: 59542, Correct: 4\n",
            "Guess: 49542, Correct: 4\n",
            "Guess: 69542, Correct: 4\n",
            "Guess: 39542, Correct: 5\n",
            "Solution found!\n"
          ]
        },
        {
          "output_type": "execute_result",
          "data": {
            "text/plain": [
              "[3, 9, 5, 4, 2]"
            ]
          },
          "metadata": {},
          "execution_count": 154
        }
      ]
    }
  ]
}